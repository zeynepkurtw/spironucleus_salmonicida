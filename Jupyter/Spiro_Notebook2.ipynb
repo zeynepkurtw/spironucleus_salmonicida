{
 "cells": [
  {
   "cell_type": "markdown",
   "metadata": {},
   "source": [
    "## Protein Level Duplication Search"
   ]
  },
  {
   "cell_type": "markdown",
   "metadata": {
    "heading_collapsed": true
   },
   "source": [
    "### spiro.faa"
   ]
  },
  {
   "cell_type": "code",
   "execution_count": 62,
   "metadata": {
    "hidden": true
   },
   "outputs": [
    {
     "data": {
      "text/html": [
       "<div>\n",
       "<style scoped>\n",
       "    .dataframe tbody tr th:only-of-type {\n",
       "        vertical-align: middle;\n",
       "    }\n",
       "\n",
       "    .dataframe tbody tr th {\n",
       "        vertical-align: top;\n",
       "    }\n",
       "\n",
       "    .dataframe thead th {\n",
       "        text-align: right;\n",
       "    }\n",
       "</style>\n",
       "<table border=\"1\" class=\"dataframe\">\n",
       "  <thead>\n",
       "    <tr style=\"text-align: right;\">\n",
       "      <th></th>\n",
       "      <th>0</th>\n",
       "      <th>1</th>\n",
       "      <th>3</th>\n",
       "    </tr>\n",
       "  </thead>\n",
       "  <tbody>\n",
       "    <tr>\n",
       "      <th>1</th>\n",
       "      <td>SS50377_20001</td>\n",
       "      <td>MSSGLSIEFKAIPYSVDQGYNVIINKKIKKLKFTIRDNEISQSIQL...</td>\n",
       "      <td>1793</td>\n",
       "    </tr>\n",
       "    <tr>\n",
       "      <th>2</th>\n",
       "      <td>SS50377_20002</td>\n",
       "      <td>MHDPTHPYRYQMQQVSSSADVASLQQNSSQRVVVTIQHSSIPMLRS...</td>\n",
       "      <td>215</td>\n",
       "    </tr>\n",
       "    <tr>\n",
       "      <th>3</th>\n",
       "      <td>SS50377_20003</td>\n",
       "      <td>MPTASTQARSTKMWKAQASIISVLFLINYDIATSLGPDHQLALSSS...</td>\n",
       "      <td>153</td>\n",
       "    </tr>\n",
       "    <tr>\n",
       "      <th>4</th>\n",
       "      <td>SS50377_20004</td>\n",
       "      <td>MICVSFAAMNRSINQRISILSPTPPRRLNNLPFSYSVKIIVTKHVY...</td>\n",
       "      <td>291</td>\n",
       "    </tr>\n",
       "    <tr>\n",
       "      <th>5</th>\n",
       "      <td>SS50377_20005</td>\n",
       "      <td>MTEDLFVEFEAIPFSVDVNKNVIVSNTILQIKFTIRDNEISQSIQL...</td>\n",
       "      <td>1480</td>\n",
       "    </tr>\n",
       "  </tbody>\n",
       "</table>\n",
       "</div>"
      ],
      "text/plain": [
       "               0                                                  1     3\n",
       "1  SS50377_20001  MSSGLSIEFKAIPYSVDQGYNVIINKKIKKLKFTIRDNEISQSIQL...  1793\n",
       "2  SS50377_20002  MHDPTHPYRYQMQQVSSSADVASLQQNSSQRVVVTIQHSSIPMLRS...   215\n",
       "3  SS50377_20003  MPTASTQARSTKMWKAQASIISVLFLINYDIATSLGPDHQLALSSS...   153\n",
       "4  SS50377_20004  MICVSFAAMNRSINQRISILSPTPPRRLNNLPFSYSVKIIVTKHVY...   291\n",
       "5  SS50377_20005  MTEDLFVEFEAIPFSVDVNKNVIVSNTILQIKFTIRDNEISQSIQL...  1480"
      ]
     },
     "execution_count": 62,
     "metadata": {},
     "output_type": "execute_result"
    }
   ],
   "source": [
    "#Read Spiro protein fasta in tabular format\n",
    "#Headers= 0:id 1:seq 3:length\n",
    "import pandas as pd\n",
    "df=pd.read_csv(\"/opt/zeynep/spironucleus/tabular_spiro\", sep='\\t', header= None)\n",
    "df=df.iloc[1:]\n",
    "df=df.drop(columns=2)\n",
    "df.head()"
   ]
  },
  {
   "cell_type": "code",
   "execution_count": 63,
   "metadata": {
    "hidden": true
   },
   "outputs": [
    {
     "data": {
      "text/html": [
       "<div>\n",
       "<style scoped>\n",
       "    .dataframe tbody tr th:only-of-type {\n",
       "        vertical-align: middle;\n",
       "    }\n",
       "\n",
       "    .dataframe tbody tr th {\n",
       "        vertical-align: top;\n",
       "    }\n",
       "\n",
       "    .dataframe thead th {\n",
       "        text-align: right;\n",
       "    }\n",
       "</style>\n",
       "<table border=\"1\" class=\"dataframe\">\n",
       "  <thead>\n",
       "    <tr style=\"text-align: right;\">\n",
       "      <th></th>\n",
       "      <th>0</th>\n",
       "      <th>1</th>\n",
       "      <th>3</th>\n",
       "    </tr>\n",
       "  </thead>\n",
       "  <tbody>\n",
       "    <tr>\n",
       "      <th>count</th>\n",
       "      <td>8668</td>\n",
       "      <td>8668</td>\n",
       "      <td>8668</td>\n",
       "    </tr>\n",
       "    <tr>\n",
       "      <th>unique</th>\n",
       "      <td>8668</td>\n",
       "      <td>8077</td>\n",
       "      <td>1269</td>\n",
       "    </tr>\n",
       "    <tr>\n",
       "      <th>top</th>\n",
       "      <td>SS50377_20897</td>\n",
       "      <td>MAGRTALEARRLAAADFTGAAEEKNRIIPRITQVRPTRSIGGTRYH...</td>\n",
       "      <td>285</td>\n",
       "    </tr>\n",
       "    <tr>\n",
       "      <th>freq</th>\n",
       "      <td>1</td>\n",
       "      <td>12</td>\n",
       "      <td>49</td>\n",
       "    </tr>\n",
       "  </tbody>\n",
       "</table>\n",
       "</div>"
      ],
      "text/plain": [
       "                    0                                                  1     3\n",
       "count            8668                                               8668  8668\n",
       "unique           8668                                               8077  1269\n",
       "top     SS50377_20897  MAGRTALEARRLAAADFTGAAEEKNRIIPRITQVRPTRSIGGTRYH...   285\n",
       "freq                1                                                 12    49"
      ]
     },
     "execution_count": 63,
     "metadata": {},
     "output_type": "execute_result"
    }
   ],
   "source": [
    "df.describe()"
   ]
  },
  {
   "cell_type": "code",
   "execution_count": 64,
   "metadata": {
    "hidden": true
   },
   "outputs": [
    {
     "data": {
      "text/plain": [
       "<AxesSubplot:ylabel='Frequency'>"
      ]
     },
     "execution_count": 64,
     "metadata": {},
     "output_type": "execute_result"
    },
    {
     "data": {
      "image/png": "[encoded data removed]",
      "text/plain": [
       "<Figure size 720x720 with 1 Axes>"
      ]
     },
     "metadata": {},
     "output_type": "display_data"
    }
   ],
   "source": [
    "import seaborn as sns; sns.set()\n",
    "import matplotlib.pyplot as plt\n",
    "import pylab\n",
    "\n",
    "sns.set(rc={'figure.figsize':(10,10)})\n",
    "df[3]=df[3].astype(float)\n",
    "\n",
    "df_plot=df[[0,3]]\n",
    "df_plot.plot.hist(bins=100, alpha=0.7 )"
   ]
  },
  {
   "cell_type": "markdown",
   "metadata": {},
   "source": [
    "## Nucleotide Level Duplication Search"
   ]
  },
  {
   "cell_type": "markdown",
   "metadata": {
    "heading_collapsed": true
   },
   "source": [
    "### spiro-spiro Blastn"
   ]
  },
  {
   "cell_type": "code",
   "execution_count": 44,
   "metadata": {
    "hidden": true,
    "scrolled": true
   },
   "outputs": [
    {
     "name": "stdout",
     "output_type": "stream",
     "text": [
      "3773\n"
     ]
    },
    {
     "data": {
      "text/html": [
       "<div>\n",
       "<style scoped>\n",
       "    .dataframe tbody tr th:only-of-type {\n",
       "        vertical-align: middle;\n",
       "    }\n",
       "\n",
       "    .dataframe tbody tr th {\n",
       "        vertical-align: top;\n",
       "    }\n",
       "\n",
       "    .dataframe thead th {\n",
       "        text-align: right;\n",
       "    }\n",
       "</style>\n",
       "<table border=\"1\" class=\"dataframe\">\n",
       "  <thead>\n",
       "    <tr style=\"text-align: right;\">\n",
       "      <th></th>\n",
       "      <th>0</th>\n",
       "      <th>1</th>\n",
       "      <th>2</th>\n",
       "      <th>3</th>\n",
       "      <th>4</th>\n",
       "      <th>5</th>\n",
       "      <th>6</th>\n",
       "      <th>7</th>\n",
       "      <th>8</th>\n",
       "      <th>9</th>\n",
       "    </tr>\n",
       "  </thead>\n",
       "  <tbody>\n",
       "    <tr>\n",
       "      <th>0</th>\n",
       "      <td>chr1</td>\n",
       "      <td>chr1</td>\n",
       "      <td>100.000</td>\n",
       "      <td>1924143</td>\n",
       "      <td>0</td>\n",
       "      <td>0</td>\n",
       "      <td>1</td>\n",
       "      <td>1924143</td>\n",
       "      <td>1</td>\n",
       "      <td>1924143</td>\n",
       "    </tr>\n",
       "    <tr>\n",
       "      <th>1</th>\n",
       "      <td>chr1</td>\n",
       "      <td>chr1</td>\n",
       "      <td>97.042</td>\n",
       "      <td>11631</td>\n",
       "      <td>317</td>\n",
       "      <td>22</td>\n",
       "      <td>19902</td>\n",
       "      <td>31520</td>\n",
       "      <td>8996</td>\n",
       "      <td>20611</td>\n",
       "    </tr>\n",
       "    <tr>\n",
       "      <th>2</th>\n",
       "      <td>chr1</td>\n",
       "      <td>chr1</td>\n",
       "      <td>97.042</td>\n",
       "      <td>11631</td>\n",
       "      <td>317</td>\n",
       "      <td>22</td>\n",
       "      <td>8996</td>\n",
       "      <td>20611</td>\n",
       "      <td>19902</td>\n",
       "      <td>31520</td>\n",
       "    </tr>\n",
       "    <tr>\n",
       "      <th>3</th>\n",
       "      <td>chr1</td>\n",
       "      <td>chr1</td>\n",
       "      <td>99.685</td>\n",
       "      <td>10796</td>\n",
       "      <td>34</td>\n",
       "      <td>0</td>\n",
       "      <td>1081551</td>\n",
       "      <td>1092346</td>\n",
       "      <td>1079671</td>\n",
       "      <td>1068876</td>\n",
       "    </tr>\n",
       "    <tr>\n",
       "      <th>4</th>\n",
       "      <td>chr1</td>\n",
       "      <td>chr1</td>\n",
       "      <td>99.685</td>\n",
       "      <td>10796</td>\n",
       "      <td>34</td>\n",
       "      <td>0</td>\n",
       "      <td>1068876</td>\n",
       "      <td>1079671</td>\n",
       "      <td>1092346</td>\n",
       "      <td>1081551</td>\n",
       "    </tr>\n",
       "    <tr>\n",
       "      <th>5</th>\n",
       "      <td>chr1</td>\n",
       "      <td>chr1</td>\n",
       "      <td>97.647</td>\n",
       "      <td>10923</td>\n",
       "      <td>231</td>\n",
       "      <td>19</td>\n",
       "      <td>34932</td>\n",
       "      <td>45838</td>\n",
       "      <td>20253</td>\n",
       "      <td>31165</td>\n",
       "    </tr>\n",
       "    <tr>\n",
       "      <th>6</th>\n",
       "      <td>chr1</td>\n",
       "      <td>chr1</td>\n",
       "      <td>97.647</td>\n",
       "      <td>10923</td>\n",
       "      <td>231</td>\n",
       "      <td>19</td>\n",
       "      <td>20253</td>\n",
       "      <td>31165</td>\n",
       "      <td>34932</td>\n",
       "      <td>45838</td>\n",
       "    </tr>\n",
       "    <tr>\n",
       "      <th>7</th>\n",
       "      <td>chr1</td>\n",
       "      <td>chr1</td>\n",
       "      <td>96.934</td>\n",
       "      <td>10925</td>\n",
       "      <td>306</td>\n",
       "      <td>25</td>\n",
       "      <td>34932</td>\n",
       "      <td>45838</td>\n",
       "      <td>9343</td>\n",
       "      <td>20256</td>\n",
       "    </tr>\n",
       "    <tr>\n",
       "      <th>8</th>\n",
       "      <td>chr1</td>\n",
       "      <td>chr1</td>\n",
       "      <td>96.934</td>\n",
       "      <td>10925</td>\n",
       "      <td>306</td>\n",
       "      <td>25</td>\n",
       "      <td>9343</td>\n",
       "      <td>20256</td>\n",
       "      <td>34932</td>\n",
       "      <td>45838</td>\n",
       "    </tr>\n",
       "    <tr>\n",
       "      <th>9</th>\n",
       "      <td>chr1</td>\n",
       "      <td>chr1</td>\n",
       "      <td>99.784</td>\n",
       "      <td>9259</td>\n",
       "      <td>19</td>\n",
       "      <td>1</td>\n",
       "      <td>1236980</td>\n",
       "      <td>1246238</td>\n",
       "      <td>1229538</td>\n",
       "      <td>1220281</td>\n",
       "    </tr>\n",
       "  </tbody>\n",
       "</table>\n",
       "</div>"
      ],
      "text/plain": [
       "      0     1        2        3    4   5        6        7        8        9\n",
       "0  chr1  chr1  100.000  1924143    0   0        1  1924143        1  1924143\n",
       "1  chr1  chr1   97.042    11631  317  22    19902    31520     8996    20611\n",
       "2  chr1  chr1   97.042    11631  317  22     8996    20611    19902    31520\n",
       "3  chr1  chr1   99.685    10796   34   0  1081551  1092346  1079671  1068876\n",
       "4  chr1  chr1   99.685    10796   34   0  1068876  1079671  1092346  1081551\n",
       "5  chr1  chr1   97.647    10923  231  19    34932    45838    20253    31165\n",
       "6  chr1  chr1   97.647    10923  231  19    20253    31165    34932    45838\n",
       "7  chr1  chr1   96.934    10925  306  25    34932    45838     9343    20256\n",
       "8  chr1  chr1   96.934    10925  306  25     9343    20256    34932    45838\n",
       "9  chr1  chr1   99.784     9259   19   1  1236980  1246238  1229538  1220281"
      ]
     },
     "execution_count": 44,
     "metadata": {},
     "output_type": "execute_result"
    }
   ],
   "source": [
    "#Read Spiro-Spiro blastn search\n",
    "blastn_file =(\"/opt/zeynep/spironucleus/spiro_spiro.blastn\")\n",
    "import pandas as pd\n",
    "\n",
    "df=pd.read_csv(blastn_file, sep=\"\\t\", header=None)\n",
    "df=df.drop(columns=[10,11,12,13,14])\n",
    "\n",
    "# similarity threshold\n",
    "df=df[(df[2]>95 )& (df[3]>1000)]\n",
    "print(len(df))\n",
    "df.head(10)"
   ]
  },
  {
   "cell_type": "markdown",
   "metadata": {
    "heading_collapsed": true
   },
   "source": [
    "### spiro.fa"
   ]
  },
  {
   "cell_type": "code",
   "execution_count": 45,
   "metadata": {
    "hidden": true
   },
   "outputs": [
    {
     "data": {
      "text/html": [
       "<div>\n",
       "<style scoped>\n",
       "    .dataframe tbody tr th:only-of-type {\n",
       "        vertical-align: middle;\n",
       "    }\n",
       "\n",
       "    .dataframe tbody tr th {\n",
       "        vertical-align: top;\n",
       "    }\n",
       "\n",
       "    .dataframe thead th {\n",
       "        text-align: right;\n",
       "    }\n",
       "</style>\n",
       "<table border=\"1\" class=\"dataframe\">\n",
       "  <thead>\n",
       "    <tr style=\"text-align: right;\">\n",
       "      <th></th>\n",
       "      <th>0</th>\n",
       "      <th>1</th>\n",
       "      <th>3</th>\n",
       "    </tr>\n",
       "  </thead>\n",
       "  <tbody>\n",
       "    <tr>\n",
       "      <th>1</th>\n",
       "      <td>SS50377_20001</td>\n",
       "      <td>atgtcatcaggtttatctattgagtttaaagctattccatattcag...</td>\n",
       "      <td>5379</td>\n",
       "    </tr>\n",
       "    <tr>\n",
       "      <th>2</th>\n",
       "      <td>SS50377_20002</td>\n",
       "      <td>atgcatgatcccacgcatccctatcgttactagatgcaataagtat...</td>\n",
       "      <td>645</td>\n",
       "    </tr>\n",
       "    <tr>\n",
       "      <th>3</th>\n",
       "      <td>SS50377_20003</td>\n",
       "      <td>atgccaacagcatcgactcaggctcgtagcaccaaaatgtggaagg...</td>\n",
       "      <td>459</td>\n",
       "    </tr>\n",
       "    <tr>\n",
       "      <th>4</th>\n",
       "      <td>SS50377_20004</td>\n",
       "      <td>atgatttgtgtttcctttgctgctatgaatagatctataaattaac...</td>\n",
       "      <td>873</td>\n",
       "    </tr>\n",
       "    <tr>\n",
       "      <th>5</th>\n",
       "      <td>SS50377_20005</td>\n",
       "      <td>atgactgaagatttatttgtcgagtttgaagctattccattttcag...</td>\n",
       "      <td>4440</td>\n",
       "    </tr>\n",
       "  </tbody>\n",
       "</table>\n",
       "</div>"
      ],
      "text/plain": [
       "               0                                                  1     3\n",
       "1  SS50377_20001  atgtcatcaggtttatctattgagtttaaagctattccatattcag...  5379\n",
       "2  SS50377_20002  atgcatgatcccacgcatccctatcgttactagatgcaataagtat...   645\n",
       "3  SS50377_20003  atgccaacagcatcgactcaggctcgtagcaccaaaatgtggaagg...   459\n",
       "4  SS50377_20004  atgatttgtgtttcctttgctgctatgaatagatctataaattaac...   873\n",
       "5  SS50377_20005  atgactgaagatttatttgtcgagtttgaagctattccattttcag...  4440"
      ]
     },
     "execution_count": 45,
     "metadata": {},
     "output_type": "execute_result"
    }
   ],
   "source": [
    "#Read Spiro nucleotide fasta in tabular format\n",
    "#Headers= 0:id 1:seq 3:length\n",
    "df=pd.read_csv(\"/opt/zeynep/spironucleus/tabular_spiro_nuc\", sep='\\t', header= None)\n",
    "df=df.iloc[1:]\n",
    "df=df.drop(columns=2)\n",
    "df.head()"
   ]
  },
  {
   "cell_type": "code",
   "execution_count": 46,
   "metadata": {
    "hidden": true
   },
   "outputs": [
    {
     "data": {
      "text/plain": [
       "<AxesSubplot:ylabel='Frequency'>"
      ]
     },
     "execution_count": 46,
     "metadata": {},
     "output_type": "execute_result"
    },
    {
     "data": {
      "image/png": "[encoded data removed]",
      "text/plain": [
       "<Figure size 720x720 with 1 Axes>"
      ]
     },
     "metadata": {},
     "output_type": "display_data"
    }
   ],
   "source": [
    "sns.set(rc={'figure.figsize':(10,10)})\n",
    "df[3]=df[3].astype(float)\n",
    "df_plot=df[[0,3]]\n",
    "df_plot.plot.hist(bins=100, alpha=0.7 )"
   ]
  },
  {
   "cell_type": "markdown",
   "metadata": {},
   "source": [
    "### Some Question:\n",
    "1) What are the tig00000X contigs?\n",
    "\n",
    "    a) Should we consider them as an individual chromosome?\n",
    "\n",
    "    b) Why are they much shorter than the actual chromosomes?\n",
    "\n",
    "2) How do we consider masked region in our duplication search? Should we ignore only the hard masked region or both soft and hard?\n",
    "\n"
   ]
  },
  {
   "cell_type": "markdown",
   "metadata": {
    "heading_collapsed": true
   },
   "source": [
    "### spiro.scf.fa"
   ]
  },
  {
   "cell_type": "code",
   "execution_count": 58,
   "metadata": {
    "hidden": true,
    "scrolled": true
   },
   "outputs": [
    {
     "data": {
      "text/html": [
       "<div>\n",
       "<style scoped>\n",
       "    .dataframe tbody tr th:only-of-type {\n",
       "        vertical-align: middle;\n",
       "    }\n",
       "\n",
       "    .dataframe tbody tr th {\n",
       "        vertical-align: top;\n",
       "    }\n",
       "\n",
       "    .dataframe thead th {\n",
       "        text-align: right;\n",
       "    }\n",
       "</style>\n",
       "<table border=\"1\" class=\"dataframe\">\n",
       "  <thead>\n",
       "    <tr style=\"text-align: right;\">\n",
       "      <th></th>\n",
       "      <th>0</th>\n",
       "      <th>1</th>\n",
       "      <th>3</th>\n",
       "    </tr>\n",
       "  </thead>\n",
       "  <tbody>\n",
       "    <tr>\n",
       "      <th>1</th>\n",
       "      <td>chr1</td>\n",
       "      <td>cctacctacctacctacctacctacctacctacctacctacctacc...</td>\n",
       "      <td>1924143</td>\n",
       "    </tr>\n",
       "    <tr>\n",
       "      <th>2</th>\n",
       "      <td>chr2</td>\n",
       "      <td>NNNNNNNNNNNNNNNNNNNNNNNNNNNNNNNNNNNNNNNNNNNNNN...</td>\n",
       "      <td>1908319</td>\n",
       "    </tr>\n",
       "    <tr>\n",
       "      <th>3</th>\n",
       "      <td>chr3</td>\n",
       "      <td>NNNNNNNNNNNNNNNNNNNNNNNNNNNNNNNNNNNNNNNNNNNNNN...</td>\n",
       "      <td>1864395</td>\n",
       "    </tr>\n",
       "    <tr>\n",
       "      <th>4</th>\n",
       "      <td>chr4</td>\n",
       "      <td>NNNNNNNNNNNNNNNNNNNNNNNNNNNNNNNNNNNNNNNNNNNNNN...</td>\n",
       "      <td>1733954</td>\n",
       "    </tr>\n",
       "    <tr>\n",
       "      <th>5</th>\n",
       "      <td>chr5</td>\n",
       "      <td>TACCTACCTACCTACCCTACCTAACCTACCTACCTACCTACCTACC...</td>\n",
       "      <td>1732135</td>\n",
       "    </tr>\n",
       "    <tr>\n",
       "      <th>6</th>\n",
       "      <td>chr6</td>\n",
       "      <td>cctaacctacctacctacctacctacctacctacctacctacctac...</td>\n",
       "      <td>1673122</td>\n",
       "    </tr>\n",
       "    <tr>\n",
       "      <th>7</th>\n",
       "      <td>chr7</td>\n",
       "      <td>TACCTACCTACCTACCTACCTACCTACCTACCTACCTACCTACCTA...</td>\n",
       "      <td>1610267</td>\n",
       "    </tr>\n",
       "    <tr>\n",
       "      <th>8</th>\n",
       "      <td>chr8</td>\n",
       "      <td>ACCCTACCTACCTACCTACCTACCTACCTACCTACCTACCTACCTA...</td>\n",
       "      <td>1071966</td>\n",
       "    </tr>\n",
       "    <tr>\n",
       "      <th>9</th>\n",
       "      <td>chr9</td>\n",
       "      <td>NNNNNNNNNNNNNNNNNNNNNNNNNNNNNNNNNNNNNNNNNNNNNN...</td>\n",
       "      <td>659440</td>\n",
       "    </tr>\n",
       "    <tr>\n",
       "      <th>10</th>\n",
       "      <td>tig00000001</td>\n",
       "      <td>AACCTACTACCTACCTACCTACCTACCTACCTACCTACCTACCTAC...</td>\n",
       "      <td>33199</td>\n",
       "    </tr>\n",
       "    <tr>\n",
       "      <th>11</th>\n",
       "      <td>tig00000003</td>\n",
       "      <td>AAGGCTAGGCTTGGTAGCCAAAGATTCTATTTCTTTCAATTTCATT...</td>\n",
       "      <td>21273</td>\n",
       "    </tr>\n",
       "    <tr>\n",
       "      <th>12</th>\n",
       "      <td>tig00000004</td>\n",
       "      <td>CCGTGAAAGAGGGAAAGTGTCCTATATGCGACGAATAATGCATTTT...</td>\n",
       "      <td>14624</td>\n",
       "    </tr>\n",
       "    <tr>\n",
       "      <th>13</th>\n",
       "      <td>tig00000006</td>\n",
       "      <td>TAATAGTTAAATAGTTGCAGATTTTCTTGCAGAAAAAGTAGATTAT...</td>\n",
       "      <td>17534</td>\n",
       "    </tr>\n",
       "    <tr>\n",
       "      <th>14</th>\n",
       "      <td>tig00000009</td>\n",
       "      <td>CATAAGAATGCTCGAATTCGACTGAAGGCAGTCCGCCTCGAGCAGC...</td>\n",
       "      <td>21399</td>\n",
       "    </tr>\n",
       "    <tr>\n",
       "      <th>15</th>\n",
       "      <td>tig00000010</td>\n",
       "      <td>TTGGTTAAAAAATGAAGGTACTATCTTTTAAATATAGATAAAAATT...</td>\n",
       "      <td>20369</td>\n",
       "    </tr>\n",
       "    <tr>\n",
       "      <th>16</th>\n",
       "      <td>tig00000014</td>\n",
       "      <td>TTGTAGCGTAATGTTTTGGAGAATAAGAAGTATTGTTAACTAAACT...</td>\n",
       "      <td>10896</td>\n",
       "    </tr>\n",
       "    <tr>\n",
       "      <th>17</th>\n",
       "      <td>tig00000015</td>\n",
       "      <td>AATCTCTGAGAACGTAAAGATAGGAGTTCATTTTGCAAAGATTAGT...</td>\n",
       "      <td>19102</td>\n",
       "    </tr>\n",
       "    <tr>\n",
       "      <th>18</th>\n",
       "      <td>tig00000020</td>\n",
       "      <td>TCAGATATTGATTTAATTATTATTAAATGGTAGATATGATTCTATT...</td>\n",
       "      <td>11152</td>\n",
       "    </tr>\n",
       "    <tr>\n",
       "      <th>19</th>\n",
       "      <td>tig00000021</td>\n",
       "      <td>AGCAACGCCTAGGAAATGAGTGAGCACATTATGCCTGATGAGCAGC...</td>\n",
       "      <td>12343</td>\n",
       "    </tr>\n",
       "    <tr>\n",
       "      <th>20</th>\n",
       "      <td>tig00000023</td>\n",
       "      <td>AAAACACTTAACATTCATTAATCATACTATTTATTAATATATAATA...</td>\n",
       "      <td>36158</td>\n",
       "    </tr>\n",
       "    <tr>\n",
       "      <th>21</th>\n",
       "      <td>tig00000026</td>\n",
       "      <td>ACCTACCTACCTACCTACCTACCTACTACCTACCTACCTACCTACC...</td>\n",
       "      <td>14000</td>\n",
       "    </tr>\n",
       "    <tr>\n",
       "      <th>22</th>\n",
       "      <td>tig00000030</td>\n",
       "      <td>AGGTGCTCTCGAGCTGACCGAGGGTGGCCGCAGCCAGTGCTCTCGA...</td>\n",
       "      <td>9849</td>\n",
       "    </tr>\n",
       "    <tr>\n",
       "      <th>23</th>\n",
       "      <td>tig00000032</td>\n",
       "      <td>GCCGAGAAGTGCCGCACACAGAGGCCCCTCGTGACGGTCGAAATTG...</td>\n",
       "      <td>19931</td>\n",
       "    </tr>\n",
       "    <tr>\n",
       "      <th>24</th>\n",
       "      <td>tig00000033</td>\n",
       "      <td>CACATTTTTCACAAATCTCGTCAATAACAGGTCGAGTTTCACTTTA...</td>\n",
       "      <td>17080</td>\n",
       "    </tr>\n",
       "    <tr>\n",
       "      <th>25</th>\n",
       "      <td>tig00000034</td>\n",
       "      <td>ATTTATATTATTACTTTAATTATAAAAAATGAAGTAATAAATTGAG...</td>\n",
       "      <td>17924</td>\n",
       "    </tr>\n",
       "    <tr>\n",
       "      <th>26</th>\n",
       "      <td>tig00000039</td>\n",
       "      <td>TTCTCCGCTTTCAATTCCTTGGACATCTATGACAGTTCTTCTAACT...</td>\n",
       "      <td>7121</td>\n",
       "    </tr>\n",
       "    <tr>\n",
       "      <th>27</th>\n",
       "      <td>tig00000040</td>\n",
       "      <td>TTTTTTTTTTTTTTTTTTTTTTTTTTTTTATTTTTTTTTTTTTTTT...</td>\n",
       "      <td>3188</td>\n",
       "    </tr>\n",
       "    <tr>\n",
       "      <th>28</th>\n",
       "      <td>tig00000041</td>\n",
       "      <td>CCTACCTACCTACCTACCTACCTACCTACCTACCTACCTACCTACC...</td>\n",
       "      <td>17330</td>\n",
       "    </tr>\n",
       "    <tr>\n",
       "      <th>29</th>\n",
       "      <td>tig00000044</td>\n",
       "      <td>TCAGTTACTGGAGGAGCGGAGTGGACCATTTGCTAATATGCGCCGG...</td>\n",
       "      <td>10635</td>\n",
       "    </tr>\n",
       "    <tr>\n",
       "      <th>30</th>\n",
       "      <td>tig00000046</td>\n",
       "      <td>TAATCAACCTACACTTACCCACACAGTAAGAGCTTGTGACGGCTCA...</td>\n",
       "      <td>18423</td>\n",
       "    </tr>\n",
       "    <tr>\n",
       "      <th>31</th>\n",
       "      <td>tig00000052</td>\n",
       "      <td>TCTATTAAAAGCTTTATTAACTAAACTTTAAATTATTTATACAAGA...</td>\n",
       "      <td>18104</td>\n",
       "    </tr>\n",
       "    <tr>\n",
       "      <th>32</th>\n",
       "      <td>tig00000055</td>\n",
       "      <td>TTATATACGAACTTTTCAGTTTATATGAAGCTTAAAAATGAATTTA...</td>\n",
       "      <td>10273</td>\n",
       "    </tr>\n",
       "    <tr>\n",
       "      <th>33</th>\n",
       "      <td>tig00000056</td>\n",
       "      <td>TTTAATTTATCGGAACTGAATTTAATATAAGCGAAGTTGGCGATAC...</td>\n",
       "      <td>4336</td>\n",
       "    </tr>\n",
       "    <tr>\n",
       "      <th>34</th>\n",
       "      <td>tig00000057</td>\n",
       "      <td>ATATATAGTTATAGTGACGAAAGTGGTTGCGGTGTGCGAATATAGG...</td>\n",
       "      <td>17628</td>\n",
       "    </tr>\n",
       "    <tr>\n",
       "      <th>35</th>\n",
       "      <td>tig00000059</td>\n",
       "      <td>CTTATTTATGCTGCCACATAAAGAGGTGTAGGAGGCTGAGGGTTTC...</td>\n",
       "      <td>15152</td>\n",
       "    </tr>\n",
       "    <tr>\n",
       "      <th>36</th>\n",
       "      <td>tig00000062</td>\n",
       "      <td>ATTGCTGCGTGTAATGGCTGGGTTATGGGTCCTAGCAAGGATTTTA...</td>\n",
       "      <td>19636</td>\n",
       "    </tr>\n",
       "    <tr>\n",
       "      <th>37</th>\n",
       "      <td>tig00000103</td>\n",
       "      <td>AAATTTTCATAACAGCCTAGATTAATAATATATAGATGTATATAAC...</td>\n",
       "      <td>13695</td>\n",
       "    </tr>\n",
       "    <tr>\n",
       "      <th>38</th>\n",
       "      <td>tig00000104</td>\n",
       "      <td>TTTAATAAAAATCATCTATTTCTATATATGAATAGGTACTGGATGA...</td>\n",
       "      <td>16440</td>\n",
       "    </tr>\n",
       "    <tr>\n",
       "      <th>39</th>\n",
       "      <td>tig00000105</td>\n",
       "      <td>GCGTGAACATTTTAGTTAACGTTAATTTTAAGCCCAAACAAGTTAG...</td>\n",
       "      <td>16127</td>\n",
       "    </tr>\n",
       "    <tr>\n",
       "      <th>40</th>\n",
       "      <td>tig00000106</td>\n",
       "      <td>AATTAATATGTCCGATCTAGTGTAAAATAAAGATATATACTTGTAC...</td>\n",
       "      <td>11981</td>\n",
       "    </tr>\n",
       "    <tr>\n",
       "      <th>41</th>\n",
       "      <td>tig00000107</td>\n",
       "      <td>AAACGGAAAAAGACAAAAATGTCAAACATGCTGAAATTTTACAAGA...</td>\n",
       "      <td>9347</td>\n",
       "    </tr>\n",
       "    <tr>\n",
       "      <th>42</th>\n",
       "      <td>tig00000108</td>\n",
       "      <td>AAACTGAACAATAGTTCGAATATAATCTTATAAAAATGAGTATATA...</td>\n",
       "      <td>14210</td>\n",
       "    </tr>\n",
       "  </tbody>\n",
       "</table>\n",
       "</div>"
      ],
      "text/plain": [
       "              0                                                  1        3\n",
       "1          chr1  cctacctacctacctacctacctacctacctacctacctacctacc...  1924143\n",
       "2          chr2  NNNNNNNNNNNNNNNNNNNNNNNNNNNNNNNNNNNNNNNNNNNNNN...  1908319\n",
       "3          chr3  NNNNNNNNNNNNNNNNNNNNNNNNNNNNNNNNNNNNNNNNNNNNNN...  1864395\n",
       "4          chr4  NNNNNNNNNNNNNNNNNNNNNNNNNNNNNNNNNNNNNNNNNNNNNN...  1733954\n",
       "5          chr5  TACCTACCTACCTACCCTACCTAACCTACCTACCTACCTACCTACC...  1732135\n",
       "6          chr6  cctaacctacctacctacctacctacctacctacctacctacctac...  1673122\n",
       "7          chr7  TACCTACCTACCTACCTACCTACCTACCTACCTACCTACCTACCTA...  1610267\n",
       "8          chr8  ACCCTACCTACCTACCTACCTACCTACCTACCTACCTACCTACCTA...  1071966\n",
       "9          chr9  NNNNNNNNNNNNNNNNNNNNNNNNNNNNNNNNNNNNNNNNNNNNNN...   659440\n",
       "10  tig00000001  AACCTACTACCTACCTACCTACCTACCTACCTACCTACCTACCTAC...    33199\n",
       "11  tig00000003  AAGGCTAGGCTTGGTAGCCAAAGATTCTATTTCTTTCAATTTCATT...    21273\n",
       "12  tig00000004  CCGTGAAAGAGGGAAAGTGTCCTATATGCGACGAATAATGCATTTT...    14624\n",
       "13  tig00000006  TAATAGTTAAATAGTTGCAGATTTTCTTGCAGAAAAAGTAGATTAT...    17534\n",
       "14  tig00000009  CATAAGAATGCTCGAATTCGACTGAAGGCAGTCCGCCTCGAGCAGC...    21399\n",
       "15  tig00000010  TTGGTTAAAAAATGAAGGTACTATCTTTTAAATATAGATAAAAATT...    20369\n",
       "16  tig00000014  TTGTAGCGTAATGTTTTGGAGAATAAGAAGTATTGTTAACTAAACT...    10896\n",
       "17  tig00000015  AATCTCTGAGAACGTAAAGATAGGAGTTCATTTTGCAAAGATTAGT...    19102\n",
       "18  tig00000020  TCAGATATTGATTTAATTATTATTAAATGGTAGATATGATTCTATT...    11152\n",
       "19  tig00000021  AGCAACGCCTAGGAAATGAGTGAGCACATTATGCCTGATGAGCAGC...    12343\n",
       "20  tig00000023  AAAACACTTAACATTCATTAATCATACTATTTATTAATATATAATA...    36158\n",
       "21  tig00000026  ACCTACCTACCTACCTACCTACCTACTACCTACCTACCTACCTACC...    14000\n",
       "22  tig00000030  AGGTGCTCTCGAGCTGACCGAGGGTGGCCGCAGCCAGTGCTCTCGA...     9849\n",
       "23  tig00000032  GCCGAGAAGTGCCGCACACAGAGGCCCCTCGTGACGGTCGAAATTG...    19931\n",
       "24  tig00000033  CACATTTTTCACAAATCTCGTCAATAACAGGTCGAGTTTCACTTTA...    17080\n",
       "25  tig00000034  ATTTATATTATTACTTTAATTATAAAAAATGAAGTAATAAATTGAG...    17924\n",
       "26  tig00000039  TTCTCCGCTTTCAATTCCTTGGACATCTATGACAGTTCTTCTAACT...     7121\n",
       "27  tig00000040  TTTTTTTTTTTTTTTTTTTTTTTTTTTTTATTTTTTTTTTTTTTTT...     3188\n",
       "28  tig00000041  CCTACCTACCTACCTACCTACCTACCTACCTACCTACCTACCTACC...    17330\n",
       "29  tig00000044  TCAGTTACTGGAGGAGCGGAGTGGACCATTTGCTAATATGCGCCGG...    10635\n",
       "30  tig00000046  TAATCAACCTACACTTACCCACACAGTAAGAGCTTGTGACGGCTCA...    18423\n",
       "31  tig00000052  TCTATTAAAAGCTTTATTAACTAAACTTTAAATTATTTATACAAGA...    18104\n",
       "32  tig00000055  TTATATACGAACTTTTCAGTTTATATGAAGCTTAAAAATGAATTTA...    10273\n",
       "33  tig00000056  TTTAATTTATCGGAACTGAATTTAATATAAGCGAAGTTGGCGATAC...     4336\n",
       "34  tig00000057  ATATATAGTTATAGTGACGAAAGTGGTTGCGGTGTGCGAATATAGG...    17628\n",
       "35  tig00000059  CTTATTTATGCTGCCACATAAAGAGGTGTAGGAGGCTGAGGGTTTC...    15152\n",
       "36  tig00000062  ATTGCTGCGTGTAATGGCTGGGTTATGGGTCCTAGCAAGGATTTTA...    19636\n",
       "37  tig00000103  AAATTTTCATAACAGCCTAGATTAATAATATATAGATGTATATAAC...    13695\n",
       "38  tig00000104  TTTAATAAAAATCATCTATTTCTATATATGAATAGGTACTGGATGA...    16440\n",
       "39  tig00000105  GCGTGAACATTTTAGTTAACGTTAATTTTAAGCCCAAACAAGTTAG...    16127\n",
       "40  tig00000106  AATTAATATGTCCGATCTAGTGTAAAATAAAGATATATACTTGTAC...    11981\n",
       "41  tig00000107  AAACGGAAAAAGACAAAAATGTCAAACATGCTGAAATTTTACAAGA...     9347\n",
       "42  tig00000108  AAACTGAACAATAGTTCGAATATAATCTTATAAAAATGAGTATATA...    14210"
      ]
     },
     "execution_count": 58,
     "metadata": {},
     "output_type": "execute_result"
    }
   ],
   "source": [
    "#Read Spiro assembly fasta in tabular format\n",
    "#Headers= 0:id 1:seq 3:length\n",
    "df=pd.read_csv(\"/opt/zeynep/spironucleus/assembly/tabular_spro_assembly\", sep='\\t', header= None)\n",
    "df=df.iloc[1:]\n",
    "df=df.drop(columns=2)\n",
    "df"
   ]
  },
  {
   "cell_type": "code",
   "execution_count": 51,
   "metadata": {
    "hidden": true
   },
   "outputs": [
    {
     "name": "stderr",
     "output_type": "stream",
     "text": [
      "/home/zeynep/.local/lib/python3.6/site-packages/ipykernel_launcher.py:3: SettingWithCopyWarning: \n",
      "A value is trying to be set on a copy of a slice from a DataFrame.\n",
      "Try using .loc[row_indexer,col_indexer] = value instead\n",
      "\n",
      "See the caveats in the documentation: https://pandas.pydata.org/pandas-docs/stable/user_guide/indexing.html#returning-a-view-versus-a-copy\n",
      "  This is separate from the ipykernel package so we can avoid doing imports until\n"
     ]
    },
    {
     "data": {
      "text/plain": [
       "<AxesSubplot:ylabel='Frequency'>"
      ]
     },
     "execution_count": 51,
     "metadata": {},
     "output_type": "execute_result"
    },
    {
     "data": {
      "image/png": "[encoded data removed]",
      "text/plain": [
       "<Figure size 720x720 with 1 Axes>"
      ]
     },
     "metadata": {},
     "output_type": "display_data"
    }
   ],
   "source": [
    "#First 9 chr lenght distribution\n",
    "sns.set(rc={'figure.figsize':(10,10)})\n",
    "df=df.iloc[0:10]\n",
    "df[3]=df[3].astype(float)\n",
    "df_plot=df[[0,3]]\n",
    "df_plot.plot.hist(bins=50, alpha=0.7 )"
   ]
  },
  {
   "cell_type": "code",
   "execution_count": 59,
   "metadata": {
    "hidden": true
   },
   "outputs": [
    {
     "name": "stderr",
     "output_type": "stream",
     "text": [
      "/home/zeynep/.local/lib/python3.6/site-packages/ipykernel_launcher.py:2: SettingWithCopyWarning: \n",
      "A value is trying to be set on a copy of a slice from a DataFrame.\n",
      "Try using .loc[row_indexer,col_indexer] = value instead\n",
      "\n",
      "See the caveats in the documentation: https://pandas.pydata.org/pandas-docs/stable/user_guide/indexing.html#returning-a-view-versus-a-copy\n",
      "  \n"
     ]
    },
    {
     "data": {
      "text/plain": [
       "<AxesSubplot:ylabel='Frequency'>"
      ]
     },
     "execution_count": 59,
     "metadata": {},
     "output_type": "execute_result"
    },
    {
     "data": {
      "image/png": "[encoded data removed]",
      "text/plain": [
       "<Figure size 720x720 with 1 Axes>"
      ]
     },
     "metadata": {},
     "output_type": "display_data"
    }
   ],
   "source": [
    "#tig00000X chromosomes length distribution\n",
    "df=df.iloc[10:]\n",
    "df[3]=df[3].astype(float)\n",
    "df_plot=df[[0,3]]\n",
    "df_plot.plot.hist(bins=50, alpha=0.7 )"
   ]
  },
  {
   "cell_type": "code",
   "execution_count": null,
   "metadata": {
    "hidden": true
   },
   "outputs": [],
   "source": []
  }
 ],
 "metadata": {
  "kernelspec": {
   "display_name": "Python 3",
   "language": "python",
   "name": "python3"
  },
  "language_info": {
   "codemirror_mode": {
    "name": "ipython",
    "version": 3
   },
   "file_extension": ".py",
   "mimetype": "text/x-python",
   "name": "python",
   "nbconvert_exporter": "python",
   "pygments_lexer": "ipython3",
   "version": "3.6.9"
  },
  "toc": {
   "base_numbering": 1,
   "nav_menu": {},
   "number_sections": true,
   "sideBar": true,
   "skip_h1_title": false,
   "title_cell": "Table of Contents",
   "title_sidebar": "Contents",
   "toc_cell": false,
   "toc_position": {},
   "toc_section_display": true,
   "toc_window_display": false
  }
 },
 "nbformat": 4,
 "nbformat_minor": 2
}
